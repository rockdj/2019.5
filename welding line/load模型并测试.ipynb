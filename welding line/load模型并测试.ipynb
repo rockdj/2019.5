{
 "cells": [
  {
   "cell_type": "code",
   "execution_count": 5,
   "metadata": {},
   "outputs": [
    {
     "name": "stdout",
     "output_type": "stream",
     "text": [
      "Negetive\n"
     ]
    }
   ],
   "source": [
    "from keras.models import load_model\n",
    "from keras.preprocessing import image\n",
    "import numpy as np\n",
    " \n",
    "model = load_model('1st.h5')\n",
    "file_path='/Users/fanhaoran/MyDeepLearning/2019.5/welding line/n2.jpg' ##图片地址\n",
    "img=image.load_img(file_path,target_size=(512,384))\n",
    "x=image.img_to_array(img)\n",
    "x=np.expand_dims(x,axis=0)\n",
    " \n",
    "\n",
    " \n",
    "y=model.predict(x)\n",
    "if y == 1: \n",
    "    print('Positive')\n",
    "if y == 0:\n",
    "    print('Negetive')\n"
   ]
  },
  {
   "cell_type": "code",
   "execution_count": null,
   "metadata": {},
   "outputs": [],
   "source": []
  }
 ],
 "metadata": {
  "kernelspec": {
   "display_name": "Python 3",
   "language": "python",
   "name": "python3"
  },
  "language_info": {
   "codemirror_mode": {
    "name": "ipython",
    "version": 3
   },
   "file_extension": ".py",
   "mimetype": "text/x-python",
   "name": "python",
   "nbconvert_exporter": "python",
   "pygments_lexer": "ipython3",
   "version": "3.6.8"
  }
 },
 "nbformat": 4,
 "nbformat_minor": 2
}
