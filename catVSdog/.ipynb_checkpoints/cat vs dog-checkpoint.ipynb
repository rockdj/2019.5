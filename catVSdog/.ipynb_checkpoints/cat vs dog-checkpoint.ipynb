{
 "cells": [
  {
   "cell_type": "code",
   "execution_count": 1,
   "metadata": {},
   "outputs": [
    {
     "name": "stdout",
     "output_type": "stream",
     "text": [
      "total train_cat_img is  802\n",
      "total train_dog_img is  801\n",
      "total validation_cat_img is  101\n",
      "total validation_dog_img is  100\n",
      "total test_cat_img is  101\n",
      "total test_dog_img is  100\n"
     ]
    }
   ],
   "source": [
    "import os, shutil\n",
    "\n",
    "# 存放小数据集的目录\n",
    "base_dir = '/Users/fanhaoran/MyDeepLearning/2019.5/catVSdog/dogs-vs-cats'\n",
    "\n",
    "# 建立训练集、验证集、测试集目录\n",
    "train_dir = os.path.join(base_dir, 'train')\n",
    "# os.mkdir(train_dir)\n",
    "validation_dir = os.path.join(base_dir, 'validation')\n",
    "# os.mkdir(validation_dir)\n",
    "test_dir = os.path.join(base_dir, 'test')\n",
    "# os.mkdir(test_dir)\n",
    "\n",
    "# 将猫狗照片按照训练、验证、测试分类\n",
    "train_cats_dir = os.path.join(train_dir, 'cat')\n",
    "#os.mkdir(train_cats_dir)\n",
    "train_dogs_dir = os.path.join(train_dir, 'dog')\n",
    "#os.mkdir(train_dogs_dir)\n",
    "validation_cats_dir = os.path.join(validation_dir, 'cat')\n",
    "#os.mkdir(validation_cats_dir)\n",
    "validation_dogs_dir = os.path.join(validation_dir, 'dog')\n",
    "#os.mkdir(validation_dogs_dir)\n",
    "test_cats_dir = os.path.join(test_dir, 'cat')\n",
    "#os.mkdir(test_cats_dir)\n",
    "test_dogs_dir = os.path.join(test_dir, 'dog')\n",
    "#os.mkdir(test_dogs_dir)\n",
    "print('total train_cat_img is ', len(os.listdir(train_cats_dir)))\n",
    "print('total train_dog_img is ', len(os.listdir(train_dogs_dir)))\n",
    "print('total validation_cat_img is ', len(os.listdir(validation_cats_dir)))\n",
    "print('total validation_dog_img is ', len(os.listdir(validation_dogs_dir)))\n",
    "print('total test_cat_img is ', len(os.listdir(test_cats_dir)))\n",
    "print('total test_dog_img is ', len(os.listdir(test_dogs_dir)))"
   ]
  },
  {
   "cell_type": "code",
   "execution_count": 2,
   "metadata": {},
   "outputs": [
    {
     "data": {
      "text/plain": [
       "\"import cv2\\nindex = 'cat.1.jpg'\\nimg_address = os.path.join(train_cats_dir,index)\\nimg = cv2.imread(img_address,1)\\ncv2.imshow('show.jpg',img)\\ncv2.waitKey(0)\""
      ]
     },
     "execution_count": 2,
     "metadata": {},
     "output_type": "execute_result"
    }
   ],
   "source": [
    "#检查读入的图片\n",
    "'''import cv2\n",
    "index = 'cat.1.jpg'\n",
    "img_address = os.path.join(train_cats_dir,index)\n",
    "img = cv2.imread(img_address,1)\n",
    "cv2.imshow('show.jpg',img)\n",
    "cv2.waitKey(0)'''"
   ]
  },
  {
   "cell_type": "code",
   "execution_count": 3,
   "metadata": {},
   "outputs": [
    {
     "name": "stderr",
     "output_type": "stream",
     "text": [
      "Using TensorFlow backend.\n"
     ]
    },
    {
     "name": "stdout",
     "output_type": "stream",
     "text": [
      "_________________________________________________________________\n",
      "Layer (type)                 Output Shape              Param #   \n",
      "=================================================================\n",
      "conv2d_1 (Conv2D)            (None, 148, 148, 32)      896       \n",
      "_________________________________________________________________\n",
      "max_pooling2d_1 (MaxPooling2 (None, 74, 74, 32)        0         \n",
      "_________________________________________________________________\n",
      "conv2d_2 (Conv2D)            (None, 72, 72, 64)        18496     \n",
      "_________________________________________________________________\n",
      "max_pooling2d_2 (MaxPooling2 (None, 36, 36, 64)        0         \n",
      "_________________________________________________________________\n",
      "conv2d_3 (Conv2D)            (None, 34, 34, 128)       73856     \n",
      "_________________________________________________________________\n",
      "max_pooling2d_3 (MaxPooling2 (None, 17, 17, 128)       0         \n",
      "_________________________________________________________________\n",
      "conv2d_4 (Conv2D)            (None, 15, 15, 128)       147584    \n",
      "_________________________________________________________________\n",
      "max_pooling2d_4 (MaxPooling2 (None, 7, 7, 128)         0         \n",
      "_________________________________________________________________\n",
      "flatten_1 (Flatten)          (None, 6272)              0         \n",
      "_________________________________________________________________\n",
      "dense_1 (Dense)              (None, 512)               3211776   \n",
      "_________________________________________________________________\n",
      "dense_2 (Dense)              (None, 1)                 513       \n",
      "=================================================================\n",
      "Total params: 3,453,121\n",
      "Trainable params: 3,453,121\n",
      "Non-trainable params: 0\n",
      "_________________________________________________________________\n"
     ]
    }
   ],
   "source": [
    "import tensorflow as tf\n",
    "import numpy as np\n",
    "from keras import layers\n",
    "from keras import models\n",
    "\n",
    "# 搭建一个模型\n",
    "model = models.Sequential()\n",
    "model.add(layers.Conv2D(32, (3, 3), activation='relu',\n",
    "input_shape=(150, 150, 3)))\n",
    "model.add(layers.MaxPooling2D((2, 2)))\n",
    "model.add(layers.Conv2D(64, (3, 3), activation='relu'))\n",
    "model.add(layers.MaxPooling2D((2, 2)))\n",
    "model.add(layers.Conv2D(128, (3, 3), activation='relu'))\n",
    "model.add(layers.MaxPooling2D((2, 2)))\n",
    "model.add(layers.Conv2D(128, (3, 3), activation='relu'))\n",
    "model.add(layers.MaxPooling2D((2, 2)))\n",
    "model.add(layers.Flatten())\n",
    "model.add(layers.Dense(512, activation='relu'))\n",
    "model.add(layers.Dense(1, activation='sigmoid'))\n",
    "model.summary()"
   ]
  },
  {
   "cell_type": "code",
   "execution_count": 4,
   "metadata": {},
   "outputs": [
    {
     "name": "stdout",
     "output_type": "stream",
     "text": [
      "Found 1602 images belonging to 2 classes.\n",
      "Found 200 images belonging to 2 classes.\n",
      "Epoch 1/20\n",
      "40/40 [==============================] - 19s 470ms/step - loss: 0.6937 - acc: 0.5112 - val_loss: 0.6917 - val_acc: 0.5000\n",
      "Epoch 2/20\n",
      "40/40 [==============================] - 17s 433ms/step - loss: 0.6882 - acc: 0.5675 - val_loss: 0.6787 - val_acc: 0.5400\n",
      "Epoch 3/20\n",
      "40/40 [==============================] - 17s 434ms/step - loss: 0.6675 - acc: 0.5941 - val_loss: 0.6735 - val_acc: 0.5300\n",
      "Epoch 4/20\n",
      "40/40 [==============================] - 16s 412ms/step - loss: 0.6699 - acc: 0.5813 - val_loss: 0.6549 - val_acc: 0.5900\n",
      "Epoch 5/20\n",
      "40/40 [==============================] - 16s 397ms/step - loss: 0.6403 - acc: 0.6379 - val_loss: 0.6527 - val_acc: 0.6100\n",
      "Epoch 6/20\n",
      "40/40 [==============================] - 15s 386ms/step - loss: 0.6397 - acc: 0.6412 - val_loss: 0.6558 - val_acc: 0.5500\n",
      "Epoch 7/20\n",
      "40/40 [==============================] - 16s 395ms/step - loss: 0.5986 - acc: 0.6748 - val_loss: 0.6260 - val_acc: 0.5950\n",
      "Epoch 8/20\n",
      "40/40 [==============================] - 17s 418ms/step - loss: 0.5952 - acc: 0.6875 - val_loss: 0.6215 - val_acc: 0.6000\n",
      "Epoch 9/20\n",
      "40/40 [==============================] - 15s 376ms/step - loss: 0.5538 - acc: 0.7164 - val_loss: 0.6129 - val_acc: 0.6550\n",
      "Epoch 10/20\n",
      "40/40 [==============================] - 15s 382ms/step - loss: 0.5695 - acc: 0.6963 - val_loss: 0.5952 - val_acc: 0.6500\n",
      "Epoch 11/20\n",
      "40/40 [==============================] - 15s 376ms/step - loss: 0.5382 - acc: 0.7261 - val_loss: 0.5819 - val_acc: 0.6700\n",
      "Epoch 12/20\n",
      "40/40 [==============================] - 16s 409ms/step - loss: 0.5483 - acc: 0.7187 - val_loss: 0.5757 - val_acc: 0.6850\n",
      "Epoch 13/20\n",
      "40/40 [==============================] - 15s 386ms/step - loss: 0.5168 - acc: 0.7426 - val_loss: 0.6284 - val_acc: 0.6550\n",
      "Epoch 14/20\n",
      "40/40 [==============================] - 16s 401ms/step - loss: 0.5092 - acc: 0.7463 - val_loss: 0.5634 - val_acc: 0.6600\n",
      "Epoch 15/20\n",
      "40/40 [==============================] - 17s 418ms/step - loss: 0.5232 - acc: 0.7292 - val_loss: 0.5770 - val_acc: 0.6850\n",
      "Epoch 16/20\n",
      "40/40 [==============================] - 17s 419ms/step - loss: 0.4679 - acc: 0.7825 - val_loss: 0.5508 - val_acc: 0.7200\n",
      "Epoch 17/20\n",
      "40/40 [==============================] - 18s 451ms/step - loss: 0.4500 - acc: 0.7774 - val_loss: 0.5669 - val_acc: 0.7300\n",
      "Epoch 18/20\n",
      "40/40 [==============================] - 18s 439ms/step - loss: 0.4642 - acc: 0.7738 - val_loss: 0.5521 - val_acc: 0.7150\n",
      "Epoch 19/20\n",
      "40/40 [==============================] - 17s 427ms/step - loss: 0.4507 - acc: 0.7852 - val_loss: 0.5870 - val_acc: 0.6850\n",
      "Epoch 20/20\n",
      "40/40 [==============================] - 16s 393ms/step - loss: 0.4352 - acc: 0.7963 - val_loss: 0.5333 - val_acc: 0.7350\n"
     ]
    }
   ],
   "source": [
    "from keras import optimizers\n",
    "\n",
    "#配置模型\n",
    "model.compile(loss='binary_crossentropy',\n",
    "              optimizer=optimizers.RMSprop(lr=1e-4),\n",
    "              metrics=['acc'])\n",
    "\n",
    "# 使用 ImageDataGenerator 从目录中读取图像\n",
    "from keras.preprocessing.image import ImageDataGenerator\n",
    "\n",
    "train_datagen = ImageDataGenerator(rescale=1./255)\n",
    "test_datagen = ImageDataGenerator(rescale=1./255) # 将所有图像乘以 1/255 缩放\n",
    "train_generator = train_datagen.flow_from_directory( \n",
    "        train_dir, #目标目录\n",
    "        target_size=(150, 150),  #将所有图像的大小调整为 150×150\n",
    "        batch_size=20, \n",
    "        class_mode='binary') # 因为使用了 binary_crossentropy 损失,所以需要用二进制标签\n",
    "validation_generator = test_datagen.flow_from_directory( \n",
    "        validation_dir,\n",
    "        target_size=(150, 150),\n",
    "        batch_size=20,\n",
    "        class_mode='binary')\n",
    "\n",
    "# 利用批量生成器拟合模型\n",
    "history = model.fit_generator(\n",
    "    train_generator,\n",
    "    steps_per_epoch=40,\n",
    "    epochs=20,\n",
    "    validation_data=validation_generator,\n",
    "    validation_steps=10)\n"
   ]
  },
  {
   "cell_type": "code",
   "execution_count": 5,
   "metadata": {},
   "outputs": [
    {
     "ename": "NameError",
     "evalue": "name 'load_model' is not defined",
     "output_type": "error",
     "traceback": [
      "\u001b[0;31m---------------------------------------------------------------------------\u001b[0m",
      "\u001b[0;31mNameError\u001b[0m                                 Traceback (most recent call last)",
      "\u001b[0;32m<ipython-input-5-078016cd1d93>\u001b[0m in \u001b[0;36m<module>\u001b[0;34m()\u001b[0m\n\u001b[1;32m      5\u001b[0m \u001b[0;34m\u001b[0m\u001b[0m\n\u001b[1;32m      6\u001b[0m \u001b[0;31m#load\u001b[0m\u001b[0;34m\u001b[0m\u001b[0;34m\u001b[0m\u001b[0;34m\u001b[0m\u001b[0m\n\u001b[0;32m----> 7\u001b[0;31m \u001b[0mmodel\u001b[0m \u001b[0;34m=\u001b[0m \u001b[0mload_model\u001b[0m\u001b[0;34m(\u001b[0m\u001b[0;34m'1st.h5'\u001b[0m\u001b[0;34m)\u001b[0m\u001b[0;34m\u001b[0m\u001b[0;34m\u001b[0m\u001b[0m\n\u001b[0m",
      "\u001b[0;31mNameError\u001b[0m: name 'load_model' is not defined"
     ]
    }
   ],
   "source": [
    "#save\n",
    "model.save('1st.h5')\n",
    "#delete existing model\n",
    "#del model\n",
    "\n",
    "from keras.models import load_model\n",
    "#load \n",
    "model = load_model('1st.h5')\n"
   ]
  },
  {
   "cell_type": "code",
   "execution_count": null,
   "metadata": {},
   "outputs": [],
   "source": [
    "\"\"\"Found 1602 images belonging to 2 classes.\n",
    "Found 200 images belonging to 2 classes.\n",
    "Epoch 1/20\n",
    "40/40 [==============================] - 17s 434ms/step - loss: 0.6902 - acc: 0.5013 - val_loss: 0.6823 - val_acc: 0.5400\n",
    "Epoch 2/20\n",
    "40/40 [==============================] - 14s 360ms/step - loss: 0.6805 - acc: 0.5588 - val_loss: 0.6777 - val_acc: 0.5150\n",
    "Epoch 3/20\n",
    "40/40 [==============================] - 17s 415ms/step - loss: 0.6545 - acc: 0.5853 - val_loss: 0.6607 - val_acc: 0.5800\n",
    "Epoch 4/20\n",
    "40/40 [==============================] - 17s 427ms/step - loss: 0.6474 - acc: 0.6175 - val_loss: 0.6568 - val_acc: 0.5850\n",
    "Epoch 5/20\n",
    "40/40 [==============================] - 17s 422ms/step - loss: 0.6330 - acc: 0.6513 - val_loss: 0.6382 - val_acc: 0.6250\n",
    "Epoch 6/20\n",
    "40/40 [==============================] - 18s 452ms/step - loss: 0.5987 - acc: 0.6850 - val_loss: 0.6137 - val_acc: 0.6450\n",
    "Epoch 7/20\n",
    "40/40 [==============================] - 17s 429ms/step - loss: 0.5643 - acc: 0.7101 - val_loss: 0.6042 - val_acc: 0.6450\n",
    "Epoch 8/20\n",
    "40/40 [==============================] - 16s 400ms/step - loss: 0.5814 - acc: 0.6825 - val_loss: 0.6126 - val_acc: 0.6750\n",
    "Epoch 9/20\n",
    "40/40 [==============================] - 15s 380ms/step - loss: 0.5654 - acc: 0.7211 - val_loss: 0.6160 - val_acc: 0.6600\n",
    "Epoch 10/20\n",
    "40/40 [==============================] - 16s 401ms/step - loss: 0.5425 - acc: 0.7250 - val_loss: 0.6080 - val_acc: 0.6850\n",
    "Epoch 11/20\n",
    "40/40 [==============================] - 16s 406ms/step - loss: 0.5431 - acc: 0.7226 - val_loss: 0.5754 - val_acc: 0.6950\n",
    "Epoch 12/20\n",
    "40/40 [==============================] - 16s 406ms/step - loss: 0.5131 - acc: 0.7487 - val_loss: 0.6129 - val_acc: 0.6750\n",
    "Epoch 13/20\n",
    "40/40 [==============================] - 16s 411ms/step - loss: 0.5112 - acc: 0.7376 - val_loss: 0.5680 - val_acc: 0.6850\n",
    "Epoch 14/20\n",
    "40/40 [==============================] - 16s 389ms/step - loss: 0.5157 - acc: 0.7587 - val_loss: 0.5706 - val_acc: 0.7150\n",
    "Epoch 15/20\n",
    "40/40 [==============================] - 15s 378ms/step - loss: 0.4933 - acc: 0.7674 - val_loss: 0.6219 - val_acc: 0.6700\n",
    "Epoch 16/20\n",
    "40/40 [==============================] - 17s 416ms/step - loss: 0.4869 - acc: 0.7675 - val_loss: 0.5621 - val_acc: 0.7000\n",
    "Epoch 17/20\n",
    "40/40 [==============================] - 16s 408ms/step - loss: 0.4844 - acc: 0.7576 - val_loss: 0.5514 - val_acc: 0.7150\n",
    "Epoch 18/20\n",
    "40/40 [==============================] - 16s 395ms/step - loss: 0.4588 - acc: 0.7900 - val_loss: 0.5674 - val_acc: 0.6800\n",
    "Epoch 19/20\n",
    "40/40 [==============================] - 16s 398ms/step - loss: 0.4558 - acc: 0.7949 - val_loss: 0.5506 - val_acc: 0.7300\n",
    "Epoch 20/20\n",
    "40/40 [==============================] - 16s 403ms/step - loss: 0.4354 - acc: 0.7988 - val_loss: 0.5400 - val_acc: 0.7050\"\"\""
   ]
  }
 ],
 "metadata": {
  "kernelspec": {
   "display_name": "Python 3",
   "language": "python",
   "name": "python3"
  },
  "language_info": {
   "codemirror_mode": {
    "name": "ipython",
    "version": 3
   },
   "file_extension": ".py",
   "mimetype": "text/x-python",
   "name": "python",
   "nbconvert_exporter": "python",
   "pygments_lexer": "ipython3",
   "version": "3.6.8"
  }
 },
 "nbformat": 4,
 "nbformat_minor": 2
}
